{
 "cells": [
  {
   "cell_type": "code",
   "execution_count": 23,
   "id": "26f58694",
   "metadata": {},
   "outputs": [
    {
     "name": "stdout",
     "output_type": "stream",
     "text": [
      "백신을 가장 적게 맞은 날\n",
      "2021-01-28\n",
      "백신을 가장 많이 맞은 날\n",
      "2021-06-28\n"
     ]
    },
    {
     "data": {
      "text/plain": [
       "([<matplotlib.patches.Wedge at 0x2b4cc5b7bb0>,\n",
       "  <matplotlib.patches.Wedge at 0x2b4cc5c60d0>,\n",
       "  <matplotlib.patches.Wedge at 0x2b4cc5c6490>,\n",
       "  <matplotlib.patches.Wedge at 0x2b4cc5c6970>,\n",
       "  <matplotlib.patches.Wedge at 0x2b4cc5c6e50>,\n",
       "  <matplotlib.patches.Wedge at 0x2b4cc5d5370>,\n",
       "  <matplotlib.patches.Wedge at 0x2b4cc5d5850>,\n",
       "  <matplotlib.patches.Wedge at 0x2b4cc5d5d30>,\n",
       "  <matplotlib.patches.Wedge at 0x2b4cc5e4250>,\n",
       "  <matplotlib.patches.Wedge at 0x2b4cc5e4730>,\n",
       "  <matplotlib.patches.Wedge at 0x2b4cc5b7b80>,\n",
       "  <matplotlib.patches.Wedge at 0x2b4cc5ef100>,\n",
       "  <matplotlib.patches.Wedge at 0x2b4cc5ef5e0>,\n",
       "  <matplotlib.patches.Wedge at 0x2b4cc5efac0>,\n",
       "  <matplotlib.patches.Wedge at 0x2b4cc5effa0>,\n",
       "  <matplotlib.patches.Wedge at 0x2b4cc5fc4c0>,\n",
       "  <matplotlib.patches.Wedge at 0x2b4cc5fc9a0>,\n",
       "  <matplotlib.patches.Wedge at 0x2b4cc5fce80>,\n",
       "  <matplotlib.patches.Wedge at 0x2b4cc6083a0>,\n",
       "  <matplotlib.patches.Wedge at 0x2b4cc608880>,\n",
       "  <matplotlib.patches.Wedge at 0x2b4cc608d60>,\n",
       "  <matplotlib.patches.Wedge at 0x2b4cc614280>,\n",
       "  <matplotlib.patches.Wedge at 0x2b4cc614760>,\n",
       "  <matplotlib.patches.Wedge at 0x2b4cc614c40>,\n",
       "  <matplotlib.patches.Wedge at 0x2b4cc622160>,\n",
       "  <matplotlib.patches.Wedge at 0x2b4cc622640>,\n",
       "  <matplotlib.patches.Wedge at 0x2b4cc622b20>,\n",
       "  <matplotlib.patches.Wedge at 0x2b4cc62c040>,\n",
       "  <matplotlib.patches.Wedge at 0x2b4cc62c520>,\n",
       "  <matplotlib.patches.Wedge at 0x2b4cc62ca00>],\n",
       " [Text(1.0554422683381766, 0.30990582150899426, ''),\n",
       "  Text(0.9253788759906099, 0.5947049149539254, ''),\n",
       "  Text(0.9253788759906099, 0.5947049149539254, ''),\n",
       "  Text(0.7203467861122989, 0.8313245501834299, ''),\n",
       "  Text(0.4569564802357173, 1.000595210447554, ''),\n",
       "  Text(0.4569564802357173, 1.000595210447554, ''),\n",
       "  Text(0.15654627576372776, 1.0888035927312634, ''),\n",
       "  Text(-0.4569565739181998, 1.0005951676641962, ''),\n",
       "  Text(-0.9253789316708985, 0.5947048283136995, ''),\n",
       "  Text(-1.055442297353649, 0.30990572269135613, ''),\n",
       "  Text(-1.055442297353649, 0.30990572269135613, ''),\n",
       "  Text(-1.055442297353649, 0.30990572269135613, ''),\n",
       "  Text(-1.055442297353649, 0.30990572269135613, ''),\n",
       "  Text(-1.055442297353649, 0.30990572269135613, ''),\n",
       "  Text(-1.0999999999999954, -1.0298943258065002e-07, ''),\n",
       "  Text(-1.055442239322695, -0.30990592032662945, ''),\n",
       "  Text(-0.9253788203103135, -0.5947050015941457, ''),\n",
       "  Text(-0.7203467082780743, -0.8313246176271597, ''),\n",
       "  Text(-0.7203467082780743, -0.8313246176271597, ''),\n",
       "  Text(-0.456956386553231, -1.0005952532309026, ''),\n",
       "  Text(-0.15654617382257752, -1.0888036073881788, ''),\n",
       "  Text(-0.15654617382257752, -1.0888036073881788, ''),\n",
       "  Text(0.15654647964602333, -1.0888035634174043, ''),\n",
       "  Text(0.7203469417807291, -0.8313244152959488, ''),\n",
       "  Text(0.9253789873511787, -0.5947047416734687, ''),\n",
       "  Text(0.9253789873511787, -0.5947047416734687, ''),\n",
       "  Text(0.9253789873511787, -0.5947047416734687, ''),\n",
       "  Text(0.9253789873511787, -0.5947047416734687, ''),\n",
       "  Text(0.9253789873511787, -0.5947047416734687, ''),\n",
       "  Text(1.0554423263691122, -0.30990562387371495, '')])"
      ]
     },
     "execution_count": 23,
     "metadata": {},
     "output_type": "execute_result"
    },
    {
     "data": {
      "image/png": "[encoded data removed]",
      "text/plain": [
       "<Figure size 432x288 with 1 Axes>"
      ]
     },
     "metadata": {},
     "output_type": "display_data"
    }
   ],
   "source": [
    "import csv\n",
    "import pandas as pd\n",
    "import numpy as np\n",
    "import matplotlib.pyplot as plt\n",
    "\n",
    "f = open('country_vaccinations.csv')\n",
    "data = csv.reader(f)\n",
    "header = next(data)\n",
    "\n",
    "country_temp=''\n",
    "min_temp = 999\n",
    "min_date = ''\n",
    "max_temp = -999\n",
    "max_date = ''\n",
    "\n",
    "dic={'Other':0}\n",
    "\n",
    "for row in data:\n",
    "    if row[7] != '' :\n",
    "        row[7] = float(row[7])\n",
    "        row[7] = float(row[7])\n",
    "        if min_temp > row[7]:\n",
    "            min_date = row[2]\n",
    "            min_temp = row[7]\n",
    "        if max_temp < row[7]:\n",
    "            max_date = row[2]\n",
    "            max_temp = row[7]\n",
    "    if row[1] != country_temp:\n",
    "        vaccine = row[12].split()\n",
    "        for v in vaccine:\n",
    "            if v in dic:\n",
    "                dic[v.replace(\",\",\"\")] += 1\n",
    "            else:\n",
    "                dic[v.replace(\",\",\"\")] = 1\n",
    "f.close()\n",
    "\n",
    "print('백신을 가장 적게 맞은 날\\n' + min_date)\n",
    "print('백신을 가장 많이 맞은 날\\n' + max_date)\n",
    "\n",
    "for d in dic:\n",
    "    if dic[d] < 10:\n",
    "        dic['Other'] += dic[d]\n",
    "\n",
    "df = pd.DataFrame(index=list(dic.keys()), columns=['접종 국가수'])\n",
    "df['접종 국가수'] = list(dic.values())\n",
    "df[df['접종 국가수']>=10]"
   ]
  },
  {
   "cell_type": "code",
   "execution_count": null,
   "id": "68ecaff8",
   "metadata": {},
   "outputs": [],
   "source": []
  }
 ],
 "metadata": {
  "kernelspec": {
   "display_name": "Python 3 (ipykernel)",
   "language": "python",
   "name": "python3"
  },
  "language_info": {
   "codemirror_mode": {
    "name": "ipython",
    "version": 3
   },
   "file_extension": ".py",
   "mimetype": "text/x-python",
   "name": "python",
   "nbconvert_exporter": "python",
   "pygments_lexer": "ipython3",
   "version": "3.9.12"
  }
 },
 "nbformat": 4,
 "nbformat_minor": 5
}
