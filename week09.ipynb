{
 "cells": [
  {
   "cell_type": "code",
   "execution_count": 1,
   "id": "d101a276",
   "metadata": {},
   "outputs": [
    {
     "name": "stdout",
     "output_type": "stream",
     "text": [
      "7 : 36\n",
      "2.8\n"
     ]
    }
   ],
   "source": [
    "# 실습 1\n",
    "# 456분은 몇 시간 몇 분인지 계산 하시오.\n",
    "\n",
    "t = 456\n",
    "print(t // 60, \":\", t % 60)\n",
    "\n",
    "\n",
    "# 실습 2\n",
    "# 다음과 같은 학점 데이터를 딕셔너리에 저장한 후, 이름 순으로 첫번째 학생의 학점을 출력하는 프로그램을 작성하시오.\n",
    "\n",
    "d = {\"홍길동\":3.4, \"임꺽정\":4.0, \"김철수\":2.8, \"이영희\":3.9}\n",
    "l = list(d.keys())\n",
    "l.sort()\n",
    "print(d[l[0]])\n"
   ]
  },
  {
   "cell_type": "code",
   "execution_count": null,
   "id": "95213dbb",
   "metadata": {},
   "outputs": [],
   "source": []
  }
 ],
 "metadata": {
  "kernelspec": {
   "display_name": "Python 3 (ipykernel)",
   "language": "python",
   "name": "python3"
  },
  "language_info": {
   "codemirror_mode": {
    "name": "ipython",
    "version": 3
   },
   "file_extension": ".py",
   "mimetype": "text/x-python",
   "name": "python",
   "nbconvert_exporter": "python",
   "pygments_lexer": "ipython3",
   "version": "3.9.7"
  }
 },
 "nbformat": 4,
 "nbformat_minor": 5
}
